{
 "cells": [
  {
   "cell_type": "code",
   "execution_count": 11,
   "outputs": [
    {
     "data": {
      "text/plain": "6"
     },
     "execution_count": 11,
     "metadata": {},
     "output_type": "execute_result"
    }
   ],
   "source": [
    "import gr.alx.adventofcode.ReadInputHelper\n",
    "\n",
    "val lines: List<String> = ReadInputHelper.readLinesFromResource(\"/twentythree/day8/sample.txt\")\n",
    "\n",
    "fun part1(lines: List<String>): Int {\n",
    "    val instructions = parseInstructions(lines)\n",
    "    val nodes = parseNodes(lines)\n",
    "    var currentNode = nodes[0]\n",
    "    var endNodeFound = false\n",
    "    var steps = 0\n",
    "    while (!endNodeFound) {\n",
    "//        println(\"current: $currentNode on step: $steps\")\n",
    "        instructions.forEach {\n",
    "            steps++\n",
    "            if (it == 'L') {\n",
    "                currentNode = nodes.find { it.start == currentNode.left }!!\n",
    "            }\n",
    "            if (it == 'R') {\n",
    "                currentNode = nodes.find { it.start == currentNode.right }!!\n",
    "            }\n",
    "            if (currentNode.start == nodes.last().start) {\n",
    "                endNodeFound = true\n",
    "            }\n",
    "\n",
    "        }\n",
    "    }\n",
    "    return steps\n",
    "\n",
    "}\n",
    "\n",
    "data class NavNode(val start: String, val left: String, val right: String)\n",
    "\n",
    "fun parseNodes(lines: List<String>): List<NavNode> {\n",
    "    return lines.drop(2)\n",
    "            .map {\n",
    "                it.removeSuffix(\")\").split(\" = (\", \", \")\n",
    "            }\n",
    "            .map { NavNode(it[0], it[1], it[2]) }\n",
    "//            .onEach { println(it) }\n",
    "\n",
    "}\n",
    "\n",
    "fun parseInstructions(lines: List<String>): List<Char> {\n",
    "    return lines.first()\n",
    "            .toList()\n",
    "//            .onEach { println(it) }\n",
    "}\n",
    "\n",
    "part1(lines)"
   ],
   "metadata": {
    "collapsed": false,
    "ExecuteTime": {
     "end_time": "2023-12-09T20:59:26.216612Z",
     "start_time": "2023-12-09T20:59:25.806047800Z"
    }
   }
  },
  {
   "cell_type": "code",
   "execution_count": null,
   "outputs": [
    {
     "name": "stderr",
     "output_type": "stream",
     "text": [
      "The execution was interrupted"
     ]
    }
   ],
   "source": [
    "import gr.alx.adventofcode.ReadInputHelper\n",
    "\n",
    "val lines: List<String> = ReadInputHelper.readLinesFromResource(\"/twentythree/day8/input.txt\")\n",
    "\n",
    "part1(lines)"
   ],
   "metadata": {
    "collapsed": false,
    "ExecuteTime": {
     "end_time": "2023-12-10T09:19:00.968057700Z",
     "start_time": "2023-12-09T20:59:26.214515800Z"
    }
   }
  }
 ],
 "metadata": {
  "kernelspec": {
   "display_name": "Kotlin",
   "language": "kotlin",
   "name": "kotlin"
  },
  "language_info": {
   "name": "kotlin",
   "version": "1.9.0",
   "mimetype": "text/x-kotlin",
   "file_extension": ".kt",
   "pygments_lexer": "kotlin",
   "codemirror_mode": "text/x-kotlin",
   "nbconvert_exporter": ""
  },
  "ktnbPluginMetadata": {
   "projectDependencies": true
  }
 },
 "nbformat": 4,
 "nbformat_minor": 0
}
