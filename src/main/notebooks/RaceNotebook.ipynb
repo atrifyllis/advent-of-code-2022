{
 "cells": [
  {
   "cell_type": "code",
   "execution_count": 4,
   "metadata": {
    "collapsed": true,
    "ExecuteTime": {
     "end_time": "2023-12-09T10:33:11.207528200Z",
     "start_time": "2023-12-09T10:33:10.449374200Z"
    }
   },
   "outputs": [
    {
     "name": "stdout",
     "output_type": "stream",
     "text": [
      "[49, 78, 79, 80]\r\n",
      "[298, 1185, 1066, 1181]\r\n",
      "2269432\r\n"
     ]
    }
   ],
   "source": [
    "import gr.alx.adventofcode.ReadInputHelper\n",
    "\n",
    "fun part1() {\n",
    "\n",
    "    val lines: List<String> = ReadInputHelper.readLinesFromResource(\"/twentythree/day6/input.txt\")\n",
    "\n",
    "    val parsedLines: List<List<String>> = lines\n",
    "            .map {\n",
    "                it.substringAfter(\":\")\n",
    "                        .trim()\n",
    "                        .split(' ')\n",
    "                        .filter { it.isNotBlank() }\n",
    "            }\n",
    "            .onEach(::println)\n",
    "\n",
    "    parsedLines[0].zip(parsedLines[1])\n",
    "            .map { Race(it.first.toLong(), it.second.toLong()) }\n",
    "            .map { it.calculateWins() }\n",
    "            .reduce(Int::times)\n",
    "            .let { println(it) }\n",
    "}\n",
    "\n",
    "data class Race(val time: Long, val distance: Long) {\n",
    "    fun calculateWins(): Int {\n",
    "\n",
    "        var wins = 0\n",
    "        for (speed in 1 until time) {\n",
    "            val remainingTime = time - speed\n",
    "            val distanceCovered = remainingTime * speed\n",
    "            if (distanceCovered > distance) {\n",
    "                wins++\n",
    "            }\n",
    "        }\n",
    "        return wins\n",
    "    }\n",
    "}\n",
    "\n",
    "part1()"
   ]
  },
  {
   "cell_type": "code",
   "execution_count": null,
   "outputs": [],
   "source": [],
   "metadata": {
    "collapsed": false
   }
  }
 ],
 "metadata": {
  "kernelspec": {
   "display_name": "Kotlin",
   "language": "kotlin",
   "name": "kotlin"
  },
  "language_info": {
   "name": "kotlin",
   "version": "1.9.0",
   "mimetype": "text/x-kotlin",
   "file_extension": ".kt",
   "pygments_lexer": "kotlin",
   "codemirror_mode": "text/x-kotlin",
   "nbconvert_exporter": ""
  },
  "ktnbPluginMetadata": {
   "projectDependencies": [
    "advent-of-code.main",
    "advent-of-code.test"
   ]
  }
 },
 "nbformat": 4,
 "nbformat_minor": 0
}
